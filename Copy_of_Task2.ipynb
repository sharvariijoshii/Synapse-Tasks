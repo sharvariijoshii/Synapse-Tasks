{
  "nbformat": 4,
  "nbformat_minor": 0,
  "metadata": {
    "colab": {
      "provenance": []
    },
    "kernelspec": {
      "name": "python3",
      "display_name": "Python 3"
    },
    "language_info": {
      "name": "python"
    }
  },
  "cells": [
    {
      "cell_type": "markdown",
      "source": [
        "#Task 2"
      ],
      "metadata": {
        "id": "aVKJrKKnDq7s"
      }
    },
    {
      "cell_type": "markdown",
      "source": [
        "Run the following cell to import your google drive"
      ],
      "metadata": {
        "id": "NRfOc8r49Jb6"
      }
    },
    {
      "cell_type": "code",
      "source": [
        "from google.colab import drive\n",
        "drive.mount(\"/content/gdrive\")"
      ],
      "metadata": {
        "id": "mTsVvyZbs0n1"
      },
      "execution_count": null,
      "outputs": []
    },
    {
      "cell_type": "markdown",
      "source": [
        "Run the following cell to import the necessary libraries"
      ],
      "metadata": {
        "id": "hf_b_-H2sezG"
      }
    },
    {
      "cell_type": "code",
      "execution_count": null,
      "metadata": {
        "id": "yhbgosq6sUiV"
      },
      "outputs": [],
      "source": [
        "import pandas as pd\n",
        "import matplotlib.pyplot as plt"
      ]
    },
    {
      "cell_type": "markdown",
      "source": [
        "## Task 2.1"
      ],
      "metadata": {
        "id": "nGTcyE7z87qd"
      }
    },
    {
      "cell_type": "markdown",
      "source": [
        "For aspiring data scientists and machine learning enthusiasts, it is vital that they understand the coding environment. We normally use a jupyter notebook for most of our programming. To understand its importance, lets perform a small exercise.\n",
        "\n",
        "We are given 2 datasets, they have data of certain students from 2 different branches and their respective divisions.\n",
        "\n",
        "Download the datasets from the links given below -\n",
        "\n",
        "Task2p1_0 - https://drive.google.com/file/d/1sCGCErnf2iC_qKUHcGLrt2O2HwuiwZYD/view?usp=sharing\n",
        "\n",
        "Task2p1_1 - https://drive.google.com/file/d/1Kb_TcAEfsUGi-KPZpsh8pXBaxfs4AsHh/view?usp=sharing\n",
        "\n",
        "Create a folder named 'Task2p1' in your google drive and upload the datasets 'Task2p1_0' and 'Task2p1_1' there."
      ],
      "metadata": {
        "id": "ZGV6Rn-69yb0"
      }
    },
    {
      "cell_type": "markdown",
      "source": [
        "###Python Script"
      ],
      "metadata": {
        "id": "9nDQ4spo-OGz"
      }
    },
    {
      "cell_type": "code",
      "source": [
        "data = pd.read_csv(\"/content/gdrive/MyDrive/Task2p1/Task2p1_0.csv\")\n",
        "data\n",
        "data = pd.read_csv(\"/content/gdrive/MyDrive/Task2p1/Task2p1_1.csv\")\n",
        "data"
      ],
      "metadata": {
        "id": "1_HOy87d-Rqy"
      },
      "execution_count": null,
      "outputs": []
    },
    {
      "cell_type": "markdown",
      "source": [
        "###Jupyter Notebook"
      ],
      "metadata": {
        "id": "teHwXEEo-XE6"
      }
    },
    {
      "cell_type": "code",
      "source": [
        "data = pd.read_csv(\"/content/gdrive/MyDrive/Task2p1/Task2p1_0.csv\")"
      ],
      "metadata": {
        "id": "ip4-2lMQ-Zl6"
      },
      "execution_count": null,
      "outputs": []
    },
    {
      "cell_type": "code",
      "source": [
        "data"
      ],
      "metadata": {
        "id": "x_HYgUlX-cxi"
      },
      "execution_count": null,
      "outputs": []
    },
    {
      "cell_type": "code",
      "source": [
        "data = pd.read_csv(\"/content/gdrive/MyDrive/Task2p1/Task2p1_1.csv\")"
      ],
      "metadata": {
        "id": "9i13TB3L-eaq"
      },
      "execution_count": null,
      "outputs": []
    },
    {
      "cell_type": "code",
      "source": [
        "data"
      ],
      "metadata": {
        "id": "3sCd-mnt-gSz"
      },
      "execution_count": null,
      "outputs": []
    },
    {
      "cell_type": "markdown",
      "source": [
        "Note the difference between the outputs you get after using the code in cell 3 as a python script and after running it line by line in a jupyter notebook."
      ],
      "metadata": {
        "id": "8HLiI1J1-jcc"
      }
    },
    {
      "cell_type": "markdown",
      "source": [
        "The difference between the two is:\n",
        "In the first code, since all 4 lines are running in the same block, even though the data from Task2p1_0.csv gets stored in data, it immediately gets over-written in the same block itself causing the output to be the data in Task2p1_1.csv, which is what is effectively stored in 'data' finally.\n",
        "\n",
        "In the second code, all 4 lines are running at different times one after the enter after we hit Ctrl+Enter. So, first the data from Task2p1_0.csv is stored in 'data', and since data is immediately being run independently, we see the correct output the first time i.e. data from Task2p1_0.csv. Next, it is again overwritten and now, the data from Task2p1_1.csv is stored in the variable 'data' which is then correctly printed."
      ],
      "metadata": {
        "id": "U4CIE6eo-o77"
      }
    },
    {
      "cell_type": "markdown",
      "source": [
        "##Task 2.2"
      ],
      "metadata": {
        "id": "4CLBEYfl-D3s"
      }
    },
    {
      "cell_type": "markdown",
      "source": [
        "Download the dataset of fifty random Harry Potter spells from the link given below -\n",
        "\n",
        "https://drive.google.com/file/d/1F2YEtVZaorL0WPGxOC5vXkMSixuYkI4v/view?usp=sharing\n",
        "\n",
        "Create a folder named 'Task2hp' in your google drive and upload the dataset there."
      ],
      "metadata": {
        "id": "ZYs6q-rZslk4"
      }
    },
    {
      "cell_type": "markdown",
      "source": [
        "Observe the dataset, it is a .csv file. Using pandas library, read the .csv file into a dataframe in the next cell. \n",
        "\n",
        "Tip : You can make use of the Files tab in the side bar on the left to navigate through your file structure."
      ],
      "metadata": {
        "id": "CmUJvAjns2Y-"
      }
    },
    {
      "cell_type": "code",
      "source": [],
      "metadata": {
        "id": "5A54jLnas8hV"
      },
      "execution_count": null,
      "outputs": []
    },
    {
      "cell_type": "markdown",
      "source": [
        "Display first five rows of the dataframe."
      ],
      "metadata": {
        "id": "0jfBfcbPteG-"
      }
    },
    {
      "cell_type": "code",
      "source": [],
      "metadata": {
        "id": "Cosswjq1tkau"
      },
      "execution_count": null,
      "outputs": []
    },
    {
      "cell_type": "markdown",
      "source": [
        "Remove all the rows having type as 'Hex'"
      ],
      "metadata": {
        "id": "6IQIcJTiAlTp"
      }
    },
    {
      "cell_type": "code",
      "source": [],
      "metadata": {
        "id": "qexMyEAAB3Z6"
      },
      "execution_count": null,
      "outputs": []
    },
    {
      "cell_type": "markdown",
      "source": [
        "Now remove the rows from the dataframe having NaN values for column 'Light'."
      ],
      "metadata": {
        "id": "ypl-LYvGtnVm"
      }
    },
    {
      "cell_type": "code",
      "source": [],
      "metadata": {
        "id": "qlFXDwVAuJ_4"
      },
      "execution_count": null,
      "outputs": []
    },
    {
      "cell_type": "markdown",
      "source": [
        "Filter out the spells on the basis of their Type and make a bar graph showing your analysis of the number of spells and their distribution in the five types - Charm, Jinx, Transfiguration, Curse."
      ],
      "metadata": {
        "id": "2J3LAok2uJo2"
      }
    },
    {
      "cell_type": "code",
      "source": [],
      "metadata": {
        "id": "lLDQqvSz_Owz"
      },
      "execution_count": null,
      "outputs": []
    }
  ]
}