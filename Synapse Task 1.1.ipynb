{
 "cells": [
  {
   "cell_type": "code",
   "execution_count": 49,
   "id": "4960579d",
   "metadata": {},
   "outputs": [],
   "source": [
    "modern_family = ['CLaiRe_DunPhY', 'PHiL_dUnpHY', 'GLoRiA_PriTCheTt', 'CaMErOn_TuCKEr',\n",
    "'StELLa']\n",
    "indices = []\n",
    "characters = []"
   ]
  },
  {
   "cell_type": "code",
   "execution_count": 50,
   "id": "ec43ff3b",
   "metadata": {},
   "outputs": [
    {
     "data": {
      "text/plain": [
       "[(0, 'CLaiRe_DunPhY'),\n",
       " (1, 'PHiL_dUnpHY'),\n",
       " (2, 'GLoRiA_PriTCheTt'),\n",
       " (3, 'CaMErOn_TuCKEr'),\n",
       " (4, 'StELLa')]"
      ]
     },
     "execution_count": 50,
     "metadata": {},
     "output_type": "execute_result"
    }
   ],
   "source": [
    "en = list(enumerate(modern_family))\n",
    "en"
   ]
  },
  {
   "cell_type": "code",
   "execution_count": 51,
   "id": "80b727fa",
   "metadata": {},
   "outputs": [
    {
     "name": "stdout",
     "output_type": "stream",
     "text": [
      "0 CLaiRe_DunPhY\n",
      "1 PHiL_dUnpHY\n",
      "2 GLoRiA_PriTCheTt\n",
      "3 CaMErOn_TuCKEr\n",
      "4 StELLa\n"
     ]
    }
   ],
   "source": [
    "for index,char in en:\n",
    "    print(index,char)\n",
    "    indices.append(index)\n",
    "    characters.append(char)"
   ]
  },
  {
   "cell_type": "code",
   "execution_count": 52,
   "id": "4077445b",
   "metadata": {},
   "outputs": [
    {
     "data": {
      "text/plain": [
       "['CLaiRe_DunPhY',\n",
       " 'PHiL_dUnpHY',\n",
       " 'GLoRiA_PriTCheTt',\n",
       " 'CaMErOn_TuCKEr',\n",
       " 'StELLa']"
      ]
     },
     "execution_count": 52,
     "metadata": {},
     "output_type": "execute_result"
    }
   ],
   "source": [
    "characters"
   ]
  },
  {
   "cell_type": "code",
   "execution_count": 53,
   "id": "e9e79d70",
   "metadata": {},
   "outputs": [
    {
     "data": {
      "text/plain": [
       "[0, 1, 2, 3, 4]"
      ]
     },
     "execution_count": 53,
     "metadata": {},
     "output_type": "execute_result"
    }
   ],
   "source": [
    "indices"
   ]
  },
  {
   "cell_type": "code",
   "execution_count": 54,
   "id": "dbf80905",
   "metadata": {},
   "outputs": [
    {
     "data": {
      "text/plain": [
       "['claire_dunphy',\n",
       " 'phil_dunphy',\n",
       " 'gloria_pritchett',\n",
       " 'cameron_tucker',\n",
       " 'stella']"
      ]
     },
     "execution_count": 54,
     "metadata": {},
     "output_type": "execute_result"
    }
   ],
   "source": [
    "characters = [l.lower() for l in characters]\n",
    "characters"
   ]
  },
  {
   "cell_type": "code",
   "execution_count": 55,
   "id": "5b9eda4d",
   "metadata": {},
   "outputs": [
    {
     "data": {
      "text/plain": [
       "['claire-dunphy',\n",
       " 'phil-dunphy',\n",
       " 'gloria-pritchett',\n",
       " 'cameron-tucker',\n",
       " 'stella']"
      ]
     },
     "execution_count": 55,
     "metadata": {},
     "output_type": "execute_result"
    }
   ],
   "source": [
    "characters = [l.replace(\"_\", \"-\") for l in characters]\n",
    "characters"
   ]
  },
  {
   "cell_type": "code",
   "execution_count": 56,
   "id": "2f5b996e",
   "metadata": {},
   "outputs": [
    {
     "data": {
      "text/plain": [
       "<function __main__.<lambda>(l)>"
      ]
     },
     "execution_count": 56,
     "metadata": {},
     "output_type": "execute_result"
    }
   ],
   "source": [
    "length = lambda l:len(l)\n",
    "length"
   ]
  },
  {
   "cell_type": "code",
   "execution_count": 57,
   "id": "ed3e01ac",
   "metadata": {},
   "outputs": [
    {
     "data": {
      "text/plain": [
       "[13, 11, 16, 14, 6]"
      ]
     },
     "execution_count": 57,
     "metadata": {},
     "output_type": "execute_result"
    }
   ],
   "source": [
    "temp = list(map(length,characters))\n",
    "temp"
   ]
  },
  {
   "cell_type": "code",
   "execution_count": 58,
   "id": "22b5594e",
   "metadata": {},
   "outputs": [
    {
     "data": {
      "text/plain": [
       "[13, 12, 18, 17, 10]"
      ]
     },
     "execution_count": 58,
     "metadata": {},
     "output_type": "execute_result"
    }
   ],
   "source": [
    "indices = list(map(sum,zip(temp, indices)))\n",
    "indices"
   ]
  },
  {
   "cell_type": "code",
   "execution_count": 59,
   "id": "54885114",
   "metadata": {},
   "outputs": [
    {
     "data": {
      "text/plain": [
       "[18, 17, 13, 12, 10]"
      ]
     },
     "execution_count": 59,
     "metadata": {},
     "output_type": "execute_result"
    }
   ],
   "source": [
    "indices.sort(reverse=True)\n",
    "indices"
   ]
  },
  {
   "cell_type": "code",
   "execution_count": 60,
   "id": "063c549e",
   "metadata": {},
   "outputs": [],
   "source": [
    "Phew_finally = {}\n",
    "Phew_finally = dict(zip(indices,characters))"
   ]
  },
  {
   "cell_type": "code",
   "execution_count": 61,
   "id": "ba2dd0bc",
   "metadata": {},
   "outputs": [
    {
     "data": {
      "text/plain": [
       "{18: 'claire-dunphy',\n",
       " 17: 'phil-dunphy',\n",
       " 13: 'gloria-pritchett',\n",
       " 12: 'cameron-tucker',\n",
       " 10: 'stella'}"
      ]
     },
     "execution_count": 61,
     "metadata": {},
     "output_type": "execute_result"
    }
   ],
   "source": [
    "Phew_finally"
   ]
  }
 ],
 "metadata": {
  "kernelspec": {
   "display_name": "Python 3 (ipykernel)",
   "language": "python",
   "name": "python3"
  },
  "language_info": {
   "codemirror_mode": {
    "name": "ipython",
    "version": 3
   },
   "file_extension": ".py",
   "mimetype": "text/x-python",
   "name": "python",
   "nbconvert_exporter": "python",
   "pygments_lexer": "ipython3",
   "version": "3.9.12"
  }
 },
 "nbformat": 4,
 "nbformat_minor": 5
}
