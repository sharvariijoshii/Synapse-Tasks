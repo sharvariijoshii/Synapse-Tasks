{
 "cells": [
  {
   "cell_type": "code",
   "execution_count": 3,
   "id": "9eeff44d",
   "metadata": {},
   "outputs": [],
   "source": [
    "creepy_doll = ['red_light', 'green_light', 'red_light', 'you_got_shot', 'green_light', 'you_got_shot',\n",
    "'you_got_shot', 'green_light', 'you_ got_shot', 'red_light', 'green_light', 'red_light', 'you_got_shot',\n",
    "'green_light','red_light', 'red_light', 'green_light', 'you_got_shot','red_light', 'you_got_shot']\n",
    "\n",
    "next_game = []\n",
    "\n",
    "for x in creepy_doll:\n",
    "    if x == \"green_light\":\n",
    "        next_game.append(x)"
   ]
  },
  {
   "cell_type": "code",
   "execution_count": 4,
   "id": "7baf870f",
   "metadata": {},
   "outputs": [
    {
     "name": "stdout",
     "output_type": "stream",
     "text": [
      "['green_light', 'green_light', 'green_light', 'green_light', 'green_light', 'green_light']\n"
     ]
    }
   ],
   "source": [
    "print(next_game)"
   ]
  }
 ],
 "metadata": {
  "kernelspec": {
   "display_name": "Python 3 (ipykernel)",
   "language": "python",
   "name": "python3"
  },
  "language_info": {
   "codemirror_mode": {
    "name": "ipython",
    "version": 3
   },
   "file_extension": ".py",
   "mimetype": "text/x-python",
   "name": "python",
   "nbconvert_exporter": "python",
   "pygments_lexer": "ipython3",
   "version": "3.9.12"
  }
 },
 "nbformat": 4,
 "nbformat_minor": 5
}
